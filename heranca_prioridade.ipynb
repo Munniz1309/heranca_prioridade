{
  "nbformat": 4,
  "nbformat_minor": 0,
  "metadata": {
    "colab": {
      "provenance": []
    },
    "kernelspec": {
      "name": "python3",
      "display_name": "Python 3"
    },
    "language_info": {
      "name": "python"
    }
  },
  "cells": [
    {
      "cell_type": "code",
      "source": [
        "import heapq"
      ],
      "metadata": {
        "id": "BvJfDC4ez2x-"
      },
      "execution_count": 9,
      "outputs": []
    },
    {
      "cell_type": "code",
      "source": [
        "def add_task(tasks, task_id, execution_time, priority, block_time):\n",
        "    task = {\n",
        "        'id': task_id,\n",
        "        'execution_time': execution_time,\n",
        "        'priority': priority,\n",
        "        'original_priority': priority,\n",
        "        'block_time': block_time,\n",
        "        'locked_resources': []\n",
        "    }\n",
        "    heapq.heappush(tasks, (-priority, task))"
      ],
      "metadata": {
        "id": "jO6HWw5Y6wbG"
      },
      "execution_count": 10,
      "outputs": []
    },
    {
      "cell_type": "code",
      "source": [
        "def add_resource(resources, resource_id, ceiling_priority):\n",
        "    resources[resource_id] = {\n",
        "        'id': resource_id,\n",
        "        'ceiling_priority': ceiling_priority,\n",
        "        'locked_by': None\n",
        "    }"
      ],
      "metadata": {
        "id": "H_Vf3pZhzzCV"
      },
      "execution_count": 11,
      "outputs": []
    },
    {
      "cell_type": "code",
      "source": [
        "def lock_resource(tasks, resources, task_id, resource_id):\n",
        "    task = next(task for priority, task in tasks if task['id'] == task_id)\n",
        "    resource = resources[resource_id]\n",
        "    if resource['locked_by'] is None:\n",
        "        resource['locked_by'] = task_id\n",
        "        task['locked_resources'].append(resource)\n",
        "        task['priority'] = max(task['priority'], resource['ceiling_priority'])\n",
        "        # Update heap\n",
        "        heapq.heapify(tasks)"
      ],
      "metadata": {
        "id": "O15ML6wpz6o2"
      },
      "execution_count": 12,
      "outputs": []
    },
    {
      "cell_type": "code",
      "source": [
        "def unlock_resources(task):\n",
        "    for resource in task['locked_resources']:\n",
        "        resource['locked_by'] = None\n",
        "    task['locked_resources'].clear()\n",
        "    task['priority'] = task['original_priority']"
      ],
      "metadata": {
        "id": "A-EXoIGW0ABe"
      },
      "execution_count": 13,
      "outputs": []
    },
    {
      "cell_type": "code",
      "source": [
        "def execute_tasks(tasks):\n",
        "    execution_order = []\n",
        "    while tasks:\n",
        "        priority, task = heapq.heappop(tasks)\n",
        "        execution_order.append(task['id'])\n",
        "        task['execution_time'] -= 1\n",
        "\n",
        "        if task['execution_time'] <= 0:\n",
        "            unlock_resources(task)\n",
        "        else:\n",
        "            # Re-add task to the queue with updated priority if it has remaining execution time\n",
        "            heapq.heappush(tasks, (-task['priority'], task))\n",
        "\n",
        "    return execution_order"
      ],
      "metadata": {
        "id": "El-IB9xz0D0f"
      },
      "execution_count": 14,
      "outputs": []
    },
    {
      "cell_type": "code",
      "source": [
        "# Inicializando dados\n",
        "tasks = []\n",
        "resources = {}\n",
        "\n",
        "# Adicionando tarefas\n",
        "add_task(tasks, task_id=1, execution_time=2, priority=1, block_time=2)\n",
        "add_task(tasks, task_id=2, execution_time=3, priority=2, block_time=1)\n",
        "add_task(tasks, task_id=3, execution_time=5, priority=3, block_time=3)\n",
        "\n",
        "# Adicionando recursos\n",
        "add_resource(resources, resource_id=1, ceiling_priority=2)\n",
        "add_resource(resources, resource_id=2, ceiling_priority=3)\n",
        "\n",
        "# Bloqueando recursos\n",
        "lock_resource(tasks, resources, task_id=1, resource_id=1)\n",
        "lock_resource(tasks, resources, task_id=2, resource_id=2)"
      ],
      "metadata": {
        "id": "tCvXDXJ50GFX"
      },
      "execution_count": 19,
      "outputs": []
    },
    {
      "cell_type": "code",
      "source": [
        "# Executando as tarefas\n",
        "execution_order = execute_tasks(tasks)\n",
        "print(\"Ordem de execução:\", execution_order)"
      ],
      "metadata": {
        "id": "HHmsotx00MED",
        "outputId": "b238f3aa-439e-4873-a2a7-43b53f315cca",
        "colab": {
          "base_uri": "https://localhost:8080/"
        }
      },
      "execution_count": 20,
      "outputs": [
        {
          "output_type": "stream",
          "name": "stdout",
          "text": [
            "Ordem de execução: [3, 3, 3, 3, 3, 2, 2, 2, 1, 1]\n"
          ]
        }
      ]
    }
  ]
}